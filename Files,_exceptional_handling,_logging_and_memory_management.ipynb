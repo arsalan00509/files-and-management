{
  "nbformat": 4,
  "nbformat_minor": 0,
  "metadata": {
    "colab": {
      "provenance": []
    },
    "kernelspec": {
      "name": "python3",
      "display_name": "Python 3"
    },
    "language_info": {
      "name": "python"
    }
  },
  "cells": [
    {
      "cell_type": "markdown",
      "source": [
        "#Theory Questions"
      ],
      "metadata": {
        "id": "TAkXvkG1RNNB"
      }
    },
    {
      "cell_type": "markdown",
      "source": [
        "1️⃣ What is the difference between interpreted and compiled languages?\n",
        "- Interpreted languages execute code line by line (like Python).\n",
        "Compiled languages translate the entire code into machine language before execution (like C++).\n",
        "\n",
        "2️⃣ What is exception handling in Python?\n",
        "- It’s a mechanism to handle runtime errors, allowing the program to continue or fail gracefully using try, except, else, and finally blocks.\n",
        "\n",
        "3️⃣ What is the purpose of the finally block in exception handling?\n",
        "- It runs code no matter what — whether an exception occurs or not. Typically used for cleanup actions like closing files or releasing resources.\n",
        "\n",
        "4️⃣ What is logging in Python?\n",
        "- A way to track events in your program while it runs. Useful for debugging and monitoring via log messages at different severity levels.\n",
        "\n",
        "5️⃣ What is the significance of the __del__ method in Python?\n",
        "- It’s a destructor method automatically called when an object is about to be destroyed, used for cleanup like closing files or releasing memory.\n",
        "\n",
        "6️⃣ What is the difference between import and from ... import in Python?\n",
        "- import module imports the whole module.\n",
        "\n",
        "from module import function imports specific functions or classes.\n",
        "\n",
        "7️⃣ How can you handle multiple exceptions in Python?\n",
        "- By using multiple except blocks or a tuple in a single except block like:\n",
        "\n",
        "python\n",
        "Copy\n",
        "Edit\n",
        "try:\n",
        "    ...\n",
        "except (TypeError, ValueError) as e:\n",
        "    ...\n",
        "\n",
        "8️⃣ What is the purpose of the with statement when handling files in Python?\n",
        "- Ensures the file is properly closed after its suite finishes, even if exceptions occur. It simplifies file operations.\n",
        "\n",
        "9️⃣ What is the difference between multithreading and multiprocessing?\n",
        "- Multithreading: Multiple threads within the same process (shares memory).\n",
        "\n",
        "Multiprocessing: Multiple independent processes (separate memory space).\n",
        "\n",
        "🔟 What are the advantages of using logging in a program?\n",
        "- Tracks program flow\n",
        "\n",
        "Records errors and warnings\n",
        "\n",
        "Assists in debugging\n",
        "\n",
        "Maintains execution history\n",
        "\n",
        "1️⃣1️⃣ What is memory management in Python?\n",
        "- It refers to the allocation, management, and deallocation of memory to Python objects, handled by Python’s garbage collector.\n",
        "\n",
        "1️⃣2️⃣ What are the basic steps involved in exception handling in Python?\n",
        "- Use try to wrap code that may cause an error.\n",
        "\n",
        "Use except to handle the error.\n",
        "\n",
        "Optionally use else for code to run if no error occurs.\n",
        "\n",
        "Use finally for code that must run regardless.\n",
        "\n",
        "1️⃣3️⃣ Why is memory management important in Python?\n",
        "- To prevent memory leaks, optimize resource usage, and ensure efficient program performance.\n",
        "\n",
        "1️⃣4️⃣ What is the role of try and except in exception handling?\n",
        "- try identifies code that might raise an exception.\n",
        "\n",
        "except defines how to respond to those exceptions.\n",
        "\n",
        "1️⃣5️⃣ How does Python's garbage collection system work?\n",
        "- It automatically deallocates memory by deleting objects no longer in use, primarily using reference counting and cyclic garbage collector.\n",
        "\n",
        "1️⃣6️⃣ What is the purpose of the else block in exception handling?\n",
        "- It runs code only if no exceptions occur in the try block.\n",
        "\n",
        "1️⃣7️⃣ What are the common logging levels in Python?\n",
        "- DEBUG\n",
        "\n",
        " INFO\n",
        "\n",
        " WARNING\n",
        "\n",
        " ERROR\n",
        "\n",
        " CRITICAL\n",
        "\n",
        "1️⃣8️⃣ What is the difference between os.fork() and multiprocessing in Python?\n",
        "- os.fork() creates a child process on Unix-like systems only.\n",
        "\n",
        "multiprocessing is a cross-platform library to create processes.\n",
        "\n",
        "1️⃣9️⃣ What is the importance of closing a file in Python?\n",
        "- To free system resources, avoid data corruption, and ensure data is written properly.\n",
        "\n",
        "2️⃣0️⃣ What is the difference between file.read() and file.readline() in Python?\n",
        "- file.read() reads the entire file.\n",
        "\n",
        "file.readline() reads a single line from the file.\n",
        "\n",
        "2️⃣1️⃣ What is the logging module in Python used for?\n",
        "- For generating log messages to track program execution, debug issues, and maintain logs.\n",
        "\n",
        "2️⃣2️⃣ What is the os module in Python used for in file handling?\n",
        "- It provides functions to interact with the operating system like checking if a file exists, removing files, or creating directories.\n",
        "\n",
        "2️⃣3️⃣ What are the challenges associated with memory management in Python?\n",
        "- Detecting and handling circular references\n",
        "\n",
        "Avoiding memory leaks\n",
        "\n",
        "Managing large data efficiently\n",
        "\n",
        "2️⃣4️⃣ How do you raise an exception manually in Python?\n",
        "- Using the raise keyword:\n",
        "\n",
        "python\n",
        "\n",
        "Copy\n",
        "\n",
        "Edit\n",
        "\n",
        "raise ValueError(\"Invalid input\")\n",
        "\n",
        "2️⃣5️⃣ Why is it important to use multithreading in certain applications?\n",
        "- For tasks that involve waiting (like I/O operations) or to improve responsiveness in concurrent tasks without creating multiple processes."
      ],
      "metadata": {
        "id": "AVKx3jdnRTYo"
      }
    },
    {
      "cell_type": "markdown",
      "source": [
        "#Practical Questions"
      ],
      "metadata": {
        "id": "-snUF-ZwTRFu"
      }
    },
    {
      "cell_type": "code",
      "source": [
        "# 1.How can you open a file for writing in Python and write a string to it?\n",
        "with open(\"example.txt\", \"w\") as file:\n",
        "    file.write(\"Hello, this is a sample string.\")\n",
        "    file.write(\"\\nThis is another line.\")\n",
        "    file.write(\"\\nAnd this is a third line.\")\n",
        "    file.write(\"\\n\")\n",
        "    file.write(\"This is the last line.\")\n",
        "    file.write(\"\\n\")\n",
        "\n"
      ],
      "metadata": {
        "id": "tXsjVgWXTWVW"
      },
      "execution_count": 114,
      "outputs": []
    },
    {
      "cell_type": "code",
      "execution_count": 113,
      "metadata": {
        "colab": {
          "base_uri": "https://localhost:8080/"
        },
        "id": "IYSBxo0CRCNP",
        "outputId": "51f453db-5862-44b1-b660-30aa7a431bc5"
      },
      "outputs": [
        {
          "output_type": "stream",
          "name": "stdout",
          "text": [
            "Hello, this is a sample string.\n",
            "This is another line.\n",
            "And this is a third line.\n",
            "This is the last line.\n",
            "\n",
            "Appended text.\n",
            "Appended text.\n"
          ]
        }
      ],
      "source": [
        "# 2.Write a Python program to read the contents of a file and print each line.\n",
        "with open(\"example.txt\", \"r\") as file:\n",
        "    for line in file:\n",
        "        print(line.strip())\n"
      ]
    },
    {
      "cell_type": "code",
      "source": [
        "# 3. How would you handle a case where the file doesn't exist while trying to open it for reading?\n",
        "try:\n",
        "    with open(\"missingfile.txt\", \"r\") as file:\n",
        "        content = file.read()\n",
        "except FileNotFoundError:\n",
        "    print(\"File not found.\")\n"
      ],
      "metadata": {
        "colab": {
          "base_uri": "https://localhost:8080/"
        },
        "id": "m5DH3Pu5Tt1V",
        "outputId": "bb50fa48-bdad-4c63-b370-2e1545e1d620"
      },
      "execution_count": 112,
      "outputs": [
        {
          "output_type": "stream",
          "name": "stdout",
          "text": [
            "File not found.\n"
          ]
        }
      ]
    },
    {
      "cell_type": "code",
      "source": [
        "# 4.Write a Python script that reads from one file and writes its content to another file.\n",
        "try:\n",
        "    with open(\"source.txt\", \"w\") as src:\n",
        "        src.write(\"This is the content of the source file.\")\n",
        "except IOError as e:\n",
        "    print(f\"Error creating or writing to source file: {e}\")\n",
        "\n",
        "try:\n",
        "    with open(\"source.txt\", \"r\") as src, open(\"destination.txt\", \"w\") as dest:\n",
        "        dest.write(src.read())\n",
        "except FileNotFoundError as e:\n",
        "    print(f\"Error opening source or destination file: {e}\")\n"
      ],
      "metadata": {
        "id": "VAmNgisnTuG9"
      },
      "execution_count": 111,
      "outputs": []
    },
    {
      "cell_type": "code",
      "source": [
        "# 5.How would you catch and handle division by zero error in Python?\n",
        "try:\n",
        "    result = 10 / 0\n",
        "except ZeroDivisionError:\n",
        "    print(\"Cannot divide by zero.\")\n"
      ],
      "metadata": {
        "colab": {
          "base_uri": "https://localhost:8080/"
        },
        "id": "r21FQuu1TuYF",
        "outputId": "e706c598-3ac8-458c-9349-3013f3f4b4fe"
      },
      "execution_count": 110,
      "outputs": [
        {
          "output_type": "stream",
          "name": "stdout",
          "text": [
            "Cannot divide by zero.\n"
          ]
        }
      ]
    },
    {
      "cell_type": "code",
      "source": [
        "# 6.Write a Python program that logs an error message to a log file when a division by zero exception occurs.\n",
        "import logging\n",
        "\n",
        "logging.basicConfig(filename=\"error.log\", level=logging.ERROR)\n",
        "\n",
        "try:\n",
        "    result = 10 / 0\n",
        "except ZeroDivisionError as e:\n",
        "    logging.error(f\"Error occurred: {e}\")\n"
      ],
      "metadata": {
        "colab": {
          "base_uri": "https://localhost:8080/"
        },
        "id": "mIfiKK2yTup2",
        "outputId": "851b75aa-5492-4467-dcb3-08d32a92192d"
      },
      "execution_count": 109,
      "outputs": [
        {
          "output_type": "stream",
          "name": "stderr",
          "text": [
            "ERROR:root:Error occurred: division by zero\n"
          ]
        }
      ]
    },
    {
      "cell_type": "code",
      "source": [
        "# 7.How do you log information at different levels (INFO, ERROR, WARNING) in Python using the logging module?\n",
        "import logging\n",
        "\n",
        "logging.basicConfig(level=logging.DEBUG)\n",
        "\n",
        "logging.info(\"This is an info message.\")\n",
        "logging.warning(\"This is a warning.\")\n",
        "logging.error(\"This is an error.\")\n"
      ],
      "metadata": {
        "colab": {
          "base_uri": "https://localhost:8080/"
        },
        "id": "pPy0eqldTu_u",
        "outputId": "565fe249-fbc0-4040-be1e-5843a7ea5ac5"
      },
      "execution_count": 108,
      "outputs": [
        {
          "output_type": "stream",
          "name": "stderr",
          "text": [
            "WARNING:root:This is a warning.\n",
            "ERROR:root:This is an error.\n"
          ]
        }
      ]
    },
    {
      "cell_type": "code",
      "source": [
        "# 8.Write a program to handle a file opening error using exception handling.\n",
        "try:\n",
        "    file = open(\"nofile.txt\", \"r\")\n",
        "except FileNotFoundError:\n",
        "    print(\"File could not be opened.\")\n"
      ],
      "metadata": {
        "colab": {
          "base_uri": "https://localhost:8080/"
        },
        "id": "VctoIkBUTvQV",
        "outputId": "3872b9cf-c88d-413b-f67d-aebfce55baf8"
      },
      "execution_count": 107,
      "outputs": [
        {
          "output_type": "stream",
          "name": "stdout",
          "text": [
            "File could not be opened.\n"
          ]
        }
      ]
    },
    {
      "cell_type": "code",
      "source": [
        "# 9.How can you read a file line by line and store its content in a list in Python?\n",
        "with open(\"example.txt\", \"r\") as file:\n",
        "    lines = file.readlines()\n",
        "\n",
        "print(lines)\n"
      ],
      "metadata": {
        "colab": {
          "base_uri": "https://localhost:8080/"
        },
        "id": "zfy9T4xtTvi9",
        "outputId": "cf72478f-d970-48e6-b967-fdbed49673d2"
      },
      "execution_count": 106,
      "outputs": [
        {
          "output_type": "stream",
          "name": "stdout",
          "text": [
            "['Hello, this is a sample string.\\n', 'This is another line.\\n', 'And this is a third line.\\n', 'This is the last line.\\n', '\\n', 'Appended text.\\n', 'Appended text.']\n"
          ]
        }
      ]
    },
    {
      "cell_type": "code",
      "source": [
        "# 10.How can you append data to an existing file in Python?\n",
        "with open(\"example.txt\", \"a\") as file:\n",
        "    file.write(\"\\nAppended text.\")\n"
      ],
      "metadata": {
        "id": "1-gt7Wr9TwA1"
      },
      "execution_count": 105,
      "outputs": []
    },
    {
      "cell_type": "code",
      "source": [
        "# 11.Write a Python program that uses a try-except block to handle an error when attempting to access a dictionary key that doesn't exist.\n",
        "data = {\"name\": \"Python\"}\n",
        "\n",
        "try:\n",
        "    print(data[\"age\"])\n",
        "except KeyError:\n",
        "    print(\"Key does not exist.\")\n",
        "\n"
      ],
      "metadata": {
        "colab": {
          "base_uri": "https://localhost:8080/"
        },
        "id": "_62Uf56NTwYN",
        "outputId": "f5a4038a-07e0-496e-c362-cb7fa79a8d50"
      },
      "execution_count": 104,
      "outputs": [
        {
          "output_type": "stream",
          "name": "stdout",
          "text": [
            "Key does not exist.\n"
          ]
        }
      ]
    },
    {
      "cell_type": "code",
      "source": [
        "# 12.Write a program that demonstrates using multiple except blocks to handle different types of exceptions.\n",
        "try:\n",
        "    num = int(\"abc\")\n",
        "    result = 10 / 0\n",
        "except ValueError:\n",
        "    print(\"Invalid value.\")\n",
        "except ZeroDivisionError:\n",
        "    print(\"Division by zero.\")\n"
      ],
      "metadata": {
        "colab": {
          "base_uri": "https://localhost:8080/"
        },
        "id": "4NEpTGMNTyzd",
        "outputId": "faba48be-4748-4d35-cbf1-b29dc4b47daa"
      },
      "execution_count": 103,
      "outputs": [
        {
          "output_type": "stream",
          "name": "stdout",
          "text": [
            "Invalid value.\n"
          ]
        }
      ]
    },
    {
      "cell_type": "code",
      "source": [
        "# 13.F How would you check if a file exists before attempting to read it in Python?\n",
        "import os\n",
        "\n",
        "if os.path.exists(\"example.txt\"):\n",
        "    print(\"File exists.\")\n",
        "else:\n",
        "    print(\"File does not exist.\")\n"
      ],
      "metadata": {
        "colab": {
          "base_uri": "https://localhost:8080/"
        },
        "id": "J2D4vQ4mTzHV",
        "outputId": "cf9754f6-d09b-414a-85e1-3349be20a382"
      },
      "execution_count": 102,
      "outputs": [
        {
          "output_type": "stream",
          "name": "stdout",
          "text": [
            "File exists.\n"
          ]
        }
      ]
    },
    {
      "cell_type": "code",
      "source": [
        "# 14.F Write a program that uses the logging module to log both informational and error messages.\n",
        "import logging\n",
        "\n",
        "logging.basicConfig(filename=\"logfile.log\", level=logging.INFO)\n",
        "logging.info(\"Program started.\")\n",
        "\n",
        "try:\n",
        "    result = 10 / 0\n",
        "except ZeroDivisionError:\n",
        "    logging.error(\"Attempted division by zero.\")\n",
        "\n",
        "\n"
      ],
      "metadata": {
        "colab": {
          "base_uri": "https://localhost:8080/"
        },
        "id": "MqkwWxnjTzbd",
        "outputId": "ca7ded33-9057-49e8-b8d9-c56e185e8961"
      },
      "execution_count": 101,
      "outputs": [
        {
          "output_type": "stream",
          "name": "stderr",
          "text": [
            "ERROR:root:Attempted division by zero.\n"
          ]
        }
      ]
    },
    {
      "cell_type": "code",
      "source": [
        "# 15.Write a Python program that prints the content of a file and handles the case when the file is empty.\n",
        "with open(\"example.txt\", \"r\") as file:\n",
        "    content = file.read()\n",
        "    if not content:\n",
        "        print(\"File is empty.\")\n",
        "    else:\n",
        "        print(content)\n",
        "\n",
        "\n"
      ],
      "metadata": {
        "colab": {
          "base_uri": "https://localhost:8080/"
        },
        "id": "QD6gpk4eTzu1",
        "outputId": "6bd26813-71fd-4c09-b25b-69f3fc687c6e"
      },
      "execution_count": 100,
      "outputs": [
        {
          "output_type": "stream",
          "name": "stdout",
          "text": [
            "Hello, this is a sample string.\n",
            "This is another line.\n",
            "And this is a third line.\n",
            "This is the last line.\n",
            "\n",
            "Appended text.\n"
          ]
        }
      ]
    },
    {
      "cell_type": "code",
      "source": [
        "# 16.Demonstrate how to use memory profiling to check the memory usage of a small program.\n",
        "from memory_profiler import profile\n",
        "\n",
        "@profile\n",
        "def my_program():\n",
        "    a = [i for i in range(10000)]\n",
        "    print(len(a))\n",
        "\n",
        "my_program()"
      ],
      "metadata": {
        "colab": {
          "base_uri": "https://localhost:8080/",
          "height": 383
        },
        "id": "8knP3iO_T0Ct",
        "outputId": "b1af41e3-1c72-4cd8-a646-a63d60592b01"
      },
      "execution_count": 99,
      "outputs": [
        {
          "output_type": "error",
          "ename": "ModuleNotFoundError",
          "evalue": "No module named 'memory_profiler'",
          "traceback": [
            "\u001b[0;31m---------------------------------------------------------------------------\u001b[0m",
            "\u001b[0;31mModuleNotFoundError\u001b[0m                       Traceback (most recent call last)",
            "\u001b[0;32m<ipython-input-99-802c637f005a>\u001b[0m in \u001b[0;36m<cell line: 0>\u001b[0;34m()\u001b[0m\n\u001b[1;32m      1\u001b[0m \u001b[0;31m# 16.Demonstrate how to use memory profiling to check the memory usage of a small program.\u001b[0m\u001b[0;34m\u001b[0m\u001b[0;34m\u001b[0m\u001b[0m\n\u001b[0;32m----> 2\u001b[0;31m \u001b[0;32mfrom\u001b[0m \u001b[0mmemory_profiler\u001b[0m \u001b[0;32mimport\u001b[0m \u001b[0mprofile\u001b[0m\u001b[0;34m\u001b[0m\u001b[0;34m\u001b[0m\u001b[0m\n\u001b[0m\u001b[1;32m      3\u001b[0m \u001b[0;34m\u001b[0m\u001b[0m\n\u001b[1;32m      4\u001b[0m \u001b[0;34m@\u001b[0m\u001b[0mprofile\u001b[0m\u001b[0;34m\u001b[0m\u001b[0;34m\u001b[0m\u001b[0m\n\u001b[1;32m      5\u001b[0m \u001b[0;32mdef\u001b[0m \u001b[0mmy_program\u001b[0m\u001b[0;34m(\u001b[0m\u001b[0;34m)\u001b[0m\u001b[0;34m:\u001b[0m\u001b[0;34m\u001b[0m\u001b[0;34m\u001b[0m\u001b[0m\n",
            "\u001b[0;31mModuleNotFoundError\u001b[0m: No module named 'memory_profiler'",
            "",
            "\u001b[0;31m---------------------------------------------------------------------------\u001b[0;32m\nNOTE: If your import is failing due to a missing package, you can\nmanually install dependencies using either !pip or !apt.\n\nTo view examples of installing some common dependencies, click the\n\"Open Examples\" button below.\n\u001b[0;31m---------------------------------------------------------------------------\u001b[0m\n"
          ],
          "errorDetails": {
            "actions": [
              {
                "action": "open_url",
                "actionText": "Open Examples",
                "url": "/notebooks/snippets/importing_libraries.ipynb"
              }
            ]
          }
        }
      ]
    },
    {
      "cell_type": "code",
      "source": [
        "# 17.Write a Python program to create and write a list of numbers to a file, one number per line.\n",
        "numbers = [1, 2, 3, 4, 5]\n",
        "\n",
        "with open(\"numbers.txt\", \"w\") as file:\n",
        "    for number in numbers:\n",
        "        file.write(f\"{number}\\n\")\n",
        "\n"
      ],
      "metadata": {
        "id": "oe01ar5tT0WF"
      },
      "execution_count": 98,
      "outputs": []
    },
    {
      "cell_type": "code",
      "source": [
        "# 18.How would you implement a basic logging setup that logs to a file with rotation after 1MB?\n",
        "import logging\n",
        "from logging.handlers import RotatingFileHandler\n",
        "\n",
        "handler = RotatingFileHandler(\"rotating_log.log\", maxBytes=1024*1024, backupCount=5)\n",
        "logging.basicConfig(handlers=[handler], level=logging.INFO)\n",
        "logging.info(\"This is a test log entry.\")\n"
      ],
      "metadata": {
        "id": "C4dbXaB_T0qV"
      },
      "execution_count": 97,
      "outputs": []
    },
    {
      "cell_type": "code",
      "source": [
        "# 19.Write a program that handles both IndexError and KeyError using a try-except block.\n",
        "try:\n",
        "    lst = [1, 2, 3]\n",
        "    print(lst[5])\n",
        "    d = {}\n",
        "    print(d[\"missing\"])\n",
        "except IndexError:\n",
        "    print(\"Index out of range.\")\n",
        "except KeyError:\n",
        "    print(\"Key not found.\")\n"
      ],
      "metadata": {
        "colab": {
          "base_uri": "https://localhost:8080/"
        },
        "id": "YnNnEghcT0-F",
        "outputId": "3785f91f-76c9-40d7-d2c7-ba38a3627ea3"
      },
      "execution_count": 96,
      "outputs": [
        {
          "output_type": "stream",
          "name": "stdout",
          "text": [
            "Index out of range.\n"
          ]
        }
      ]
    },
    {
      "cell_type": "code",
      "source": [
        "# 20.How would you open a file and read its contents using a context manager in Python?\n",
        "with open(\"example.txt\", \"r\") as file:\n",
        "    content = file.read()\n",
        "    print(content)\n"
      ],
      "metadata": {
        "colab": {
          "base_uri": "https://localhost:8080/"
        },
        "id": "Bbl8WpgOT1Rd",
        "outputId": "394041de-2224-4891-a711-9ed74993f32e"
      },
      "execution_count": 95,
      "outputs": [
        {
          "output_type": "stream",
          "name": "stdout",
          "text": [
            "Hello, this is a sample string.\n",
            "This is another line.\n",
            "And this is a third line.\n",
            "This is the last line.\n",
            "\n",
            "Appended text.\n"
          ]
        }
      ]
    },
    {
      "cell_type": "code",
      "source": [
        "# 21.Write a Python program that reads a file and prints the number of occurrences of a specific word.\n",
        "word_to_count = \"Python\"\n",
        "\n",
        "with open(\"example.txt\", \"r\") as file:\n",
        "    content = file.read()\n",
        "\n",
        "count = content.count(word_to_count)\n",
        "print(f\"The word '{word_to_count}' occurs {count} times.\")\n"
      ],
      "metadata": {
        "colab": {
          "base_uri": "https://localhost:8080/"
        },
        "id": "EomZtvH1T1tl",
        "outputId": "05737e80-46eb-481b-aafc-4ab867345853"
      },
      "execution_count": 94,
      "outputs": [
        {
          "output_type": "stream",
          "name": "stdout",
          "text": [
            "The word 'Python' occurs 0 times.\n"
          ]
        }
      ]
    },
    {
      "cell_type": "code",
      "source": [
        "# 22.How can you check if a file is empty before attempting to read its contents?\n",
        "import os\n",
        "\n",
        "if os.path.getsize(\"example.txt\") == 0:\n",
        "    print(\"File is empty.\")\n",
        "else:\n",
        "    print(\"File has content.\")\n"
      ],
      "metadata": {
        "colab": {
          "base_uri": "https://localhost:8080/"
        },
        "id": "MO9VO1dpT2eN",
        "outputId": "8579f9c1-21fd-426e-99c0-e4ce57b747b4"
      },
      "execution_count": 93,
      "outputs": [
        {
          "output_type": "stream",
          "name": "stdout",
          "text": [
            "File has content.\n"
          ]
        }
      ]
    },
    {
      "cell_type": "code",
      "source": [
        "# 23.Write a Python program that writes to a log file when an error occurs during file handling.\n",
        "import logging\n",
        "\n",
        "logging.basicConfig(filename=\"file_errors.log\", level=logging.ERROR)\n",
        "\n",
        "try:\n",
        "    with open(\"nofile.txt\", \"r\") as file:\n",
        "        content = file.read()\n",
        "except Exception as e:\n",
        "    logging.error(f\"Error: {e}\")\n"
      ],
      "metadata": {
        "colab": {
          "base_uri": "https://localhost:8080/"
        },
        "id": "-b2GTXimT28l",
        "outputId": "e935967e-1fc8-43a1-95e7-88723c6a182a"
      },
      "execution_count": 92,
      "outputs": [
        {
          "output_type": "stream",
          "name": "stderr",
          "text": [
            "ERROR:root:Error: [Errno 2] No such file or directory: 'nofile.txt'\n"
          ]
        }
      ]
    },
    {
      "cell_type": "code",
      "source": [],
      "metadata": {
        "id": "JYuuz-P9T3Sl"
      },
      "execution_count": null,
      "outputs": []
    }
  ]
}